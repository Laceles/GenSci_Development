{
 "cells": [
  {
   "cell_type": "code",
   "execution_count": 1,
   "metadata": {},
   "outputs": [],
   "source": [
    "seq = 'AGCTCGCTCGCTGCGTATAAAATCGCATCGCGCGCAGC'"
   ]
  },
  {
   "cell_type": "code",
   "execution_count": 2,
   "metadata": {},
   "outputs": [],
   "source": [
    "def calcRelativeEntropy(seq, resCodes):\n",
    "    \"\"\"Calculate a relative entropy value for the residues in a\n",
    "    sequence compared to a uniform null hypothesis.\n",
    "    \"\"\"\n",
    "    from math import log\n",
    "    N = float(len(seq))\n",
    "    base = 1.0/len(resCodes)\n",
    "    prop = {}\n",
    "    for r in resCodes:\n",
    "        prop[r] = 0\n",
    "    for r in seq:\n",
    "        prop[r] += 1\n",
    "\n",
    "    for r in resCodes:\n",
    "        prop[r] /= N\n",
    "    H = 0\n",
    "    for r in resCodes:\n",
    "        if prop[r] != 0.0:\n",
    "            h = prop[r]* log(prop[r]/base, 2.0)\n",
    "            H += h\n",
    "    H /= log(base, 2.0)\n",
    "    return H"
   ]
  }
 ],
 "metadata": {
  "kernelspec": {
   "display_name": "venv",
   "language": "python",
   "name": "python3"
  },
  "language_info": {
   "codemirror_mode": {
    "name": "ipython",
    "version": 3
   },
   "file_extension": ".py",
   "mimetype": "text/x-python",
   "name": "python",
   "nbconvert_exporter": "python",
   "pygments_lexer": "ipython3",
   "version": "3.10.12"
  }
 },
 "nbformat": 4,
 "nbformat_minor": 2
}
